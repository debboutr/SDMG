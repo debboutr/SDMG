{
 "cells": [
  {
   "cell_type": "markdown",
   "metadata": {},
   "source": [
    "## Useful python commands when navigating environments"
   ]
  },
  {
   "cell_type": "code",
   "execution_count": null,
   "metadata": {
    "collapsed": false
   },
   "outputs": [],
   "source": [
    "import sys\n",
    "print sys.prefix\n",
    "print sys.executable\n",
    "import os\n",
    "print os.getcwd()"
   ]
  },
  {
   "cell_type": "markdown",
   "metadata": {
    "collapsed": false
   },
   "source": [
    "# Download this directory! \n",
    "[Click to download data for Exercise](https://www.dropbox.com/sh/dzc4b5hsn0dc9vf/AABrX5NoR6W-gakT3Wbdmxo9a?dl=1 \"Download\")"
   ]
  },
  {
   "cell_type": "markdown",
   "metadata": {},
   "source": [
    "# Point to where you have extracted the data below"
   ]
  },
  {
   "cell_type": "code",
   "execution_count": null,
   "metadata": {
    "collapsed": true
   },
   "outputs": [],
   "source": [
    "DL_dir=r'/home/rick/Downloads/SpatialData' #change this to the location of the extracted download directory"
   ]
  },
  {
   "cell_type": "code",
   "execution_count": null,
   "metadata": {
    "collapsed": false
   },
   "outputs": [],
   "source": [
    "%cd"
   ]
  },
  {
   "cell_type": "code",
   "execution_count": null,
   "metadata": {
    "collapsed": false
   },
   "outputs": [],
   "source": [
    "% matplotlib inline\n",
    "import geopandas as gpd"
   ]
  },
  {
   "cell_type": "code",
   "execution_count": null,
   "metadata": {
    "collapsed": false,
    "scrolled": true
   },
   "outputs": [],
   "source": [
    "# load into GeoDataFrame directly from shapefile\n",
    "lakes = gpd.GeoDataFrame.from_file(\"{}/NHDPlus16/NHDWaterbodies.shp\".format(DL_dir))  # %timeit \n",
    "print lakes.crs  #find the coordinate reference system -- GCS_North_American_1983"
   ]
  },
  {
   "cell_type": "code",
   "execution_count": null,
   "metadata": {
    "collapsed": false
   },
   "outputs": [],
   "source": [
    "# attribute table\n",
    "import pandas as pd\n",
    "print \"Number of records in lakes: {}\".format(len(lakes))\n",
    "print \"Number of unique REACHCODEs: {}\".format(len(pd.unique(lakes.REACHCODE)))\n",
    "#lakes.set_index('REACHCODE', inplace=True)\n",
    "lakes.head()"
   ]
  },
  {
   "cell_type": "code",
   "execution_count": null,
   "metadata": {
    "collapsed": false
   },
   "outputs": [],
   "source": [
    "print type(lakes.FTYPE)\n",
    "print lakes.FTYPE[0] # returns index in the series, change to index of REACHCODE above if that was index set"
   ]
  },
  {
   "cell_type": "code",
   "execution_count": null,
   "metadata": {
    "collapsed": false
   },
   "outputs": [],
   "source": [
    "print lakes.dtypes"
   ]
  },
  {
   "cell_type": "code",
   "execution_count": null,
   "metadata": {
    "collapsed": false
   },
   "outputs": [],
   "source": [
    "print lakes.index.dtype\n",
    "print lakes.index"
   ]
  },
  {
   "cell_type": "code",
   "execution_count": null,
   "metadata": {
    "collapsed": false
   },
   "outputs": [],
   "source": [
    "print len(lakes)\n",
    "lakes.plot()  #Visualize"
   ]
  },
  {
   "cell_type": "code",
   "execution_count": null,
   "metadata": {
    "collapsed": true
   },
   "outputs": [],
   "source": [
    "lakes.plot?"
   ]
  },
  {
   "cell_type": "code",
   "execution_count": null,
   "metadata": {
    "collapsed": false
   },
   "outputs": [],
   "source": [
    "lake = lakes.ix[lakes.COMID == 8914219] \n",
    "lake.plot()  # add figsize"
   ]
  },
  {
   "cell_type": "code",
   "execution_count": null,
   "metadata": {
    "collapsed": false,
    "scrolled": true
   },
   "outputs": [],
   "source": [
    "cats = gpd.GeoDataFrame.from_file(\"{}/NHDPlus16/NHDCatchment.shp\".format(DL_dir))\n",
    "basin = cats.ix[cats.FEATUREID.isin(range(8915961,8915984,2))]\n",
    "print \"Max area catchment: %s SQKM\" % basin.AreaSqKM.max()\n",
    "print \"Min area catchment: %s SQKM\" % basin.AreaSqKM.min()\n",
    "print \"Mean area of all catchments: %s SQKM\" % basin.AreaSqKM.mean()\n",
    "print \"STD of all catchments: %s\" % basin.AreaSqKM.std()\n",
    "basin.plot(column='AreaSqKM', cmap=\"brg\")"
   ]
  },
  {
   "cell_type": "code",
   "execution_count": null,
   "metadata": {
    "collapsed": false
   },
   "outputs": [],
   "source": [
    "#sort_values()"
   ]
  },
  {
   "cell_type": "code",
   "execution_count": null,
   "metadata": {
    "collapsed": true
   },
   "outputs": [],
   "source": [
    "lakes.COMID.isin?"
   ]
  },
  {
   "cell_type": "code",
   "execution_count": null,
   "metadata": {
    "collapsed": false,
    "scrolled": true
   },
   "outputs": [],
   "source": [
    "lakes.loc[lakes['COMID'] == 4562850]\n",
    "lakes.ix[lakes.COMID == 4562850]\n",
    "lakes.ix[lakes.COMID.isin([4562850])]\n",
    "lakes.query(\"COMID == 4562850\")"
   ]
  },
  {
   "cell_type": "code",
   "execution_count": null,
   "metadata": {
    "collapsed": false
   },
   "outputs": [],
   "source": [
    "lakes.ix[lakes.COMID.isin([4562850])].plot()"
   ]
  },
  {
   "cell_type": "code",
   "execution_count": null,
   "metadata": {
    "collapsed": false
   },
   "outputs": [],
   "source": [
    "import matplotlib.pyplot as plt\n",
    "#plt.style.use(\"default\")\n",
    "fig, ax = plt.subplots(1, figsize=(3.5,7))\n",
    "base = lake.plot(ax=ax, color='blue')\n",
    "basin.plot(ax=base, color='red') #\n",
    "ax.axis('off')\n",
    "ax.set_title(\"Plot of Lake with Catchment\")"
   ]
  },
  {
   "cell_type": "code",
   "execution_count": null,
   "metadata": {
    "collapsed": false
   },
   "outputs": [],
   "source": [
    "basin.crs  # GCS_North_American_1983"
   ]
  },
  {
   "cell_type": "code",
   "execution_count": null,
   "metadata": {
    "collapsed": false
   },
   "outputs": [],
   "source": [
    "print type(basin['geometry'])\n",
    "print type(basin.ix[1990].geometry) # key in on output from this\n",
    "print basin.ix[1990].geometry.area\n",
    "print basin.ix[1990].geometry.length\n",
    "#convert to new crs for output in meteres\n",
    "basin_albers = basin.to_crs({'init' :'epsg:5070'})\n",
    "print basin_albers.ix[1990].geometry.area\n",
    "print basin_albers.ix[1990].geometry.length"
   ]
  },
  {
   "cell_type": "code",
   "execution_count": null,
   "metadata": {
    "collapsed": false
   },
   "outputs": [],
   "source": [
    "%cd /home/rick/SDMG #move to where you cloned the git repo"
   ]
  },
  {
   "cell_type": "code",
   "execution_count": null,
   "metadata": {
    "collapsed": false,
    "scrolled": true
   },
   "outputs": [],
   "source": [
    "#import sys\n",
    "#import pandas as pd\n",
    "#import geopandas as gpd\n",
    "#from datetime import datetime as dt\n",
    "from StreamCat_functions import findUpstreamNpy\n",
    "DL_dir = r'/home/rick/Downloads'\n",
    "zone = '16'\n",
    "lakes = gpd.GeoDataFrame.from_file('%s/NHDPlus%s/NHDWaterbodies.shp' % (DL_dir, zone)).to_crs({'init' :'epsg:5070'})\n",
    "cats = gpd.GeoDataFrame.from_file('%s/NHDPlus%s/NHDCatchment.shp' % (DL_dir, zone)).to_crs({'init' :'epsg:5070'}) \n",
    "lookup = pd.read_csv('%s/lookupCOMS%s.csv' % (DL_dir, zone))\n",
    "\n",
    "lks = gpd.GeoDataFrame()\n",
    "bsn = gpd.GeoDataFrame()\n",
    "miss = gpd.GeoDataFrame()\n",
    "\n",
    "for idx, row in lookup.iterrows():\n",
    "    lake = lakes.ix[lakes.COMID == row.wbCOMID]\n",
    "    catbas = findUpstreamNpy(zone, int(row.catCOMID), DL_dir)\n",
    "    basin = cats.ix[cats.FEATUREID.isin(catbas)]\n",
    "    try: \n",
    "        diffgeom = lake['geometry'].difference(basin.unary_union.buffer(0))\n",
    "        pct = diffgeom.area / lake.area * 100\n",
    "        if pct.values[0] > 20:\n",
    "            lks = pd.concat([lks, lake])\n",
    "            bsn = pd.concat([bsn, basin])\n",
    "            miss = pd.concat([miss, gpd.GeoDataFrame(data={'COMID': row.wbCOMID,'PCT': pct}, geometry=diffgeom)])\n",
    "    except:\n",
    "        print row.wbCOMID\n",
    "        continue\n",
    "lks.to_crs({'init' :'epsg:4326'}).to_file(\"%s/lks.json\" % DL_dir, driver=\"GeoJSON\")\n",
    "bsn.to_crs({'init' :'epsg:4326'}).to_file(\"%s/bsn.json\" % DL_dir, driver=\"GeoJSON\")\n",
    "miss.to_crs({'init' :'epsg:4326'}).to_file(\"%s/miss.json\" % DL_dir, driver=\"GeoJSON\")\n",
    "miss = miss.to_crs({'init' :'epsg:4326'})"
   ]
  },
  {
   "cell_type": "code",
   "execution_count": null,
   "metadata": {
    "collapsed": false
   },
   "outputs": [],
   "source": [
    "center_point = lakes.to_crs({'init' :'epsg:4326'}).unary_union.buffer(0).centroid\n",
    "print center_point.x\n",
    "print center_point.y"
   ]
  },
  {
   "cell_type": "code",
   "execution_count": null,
   "metadata": {
    "collapsed": false
   },
   "outputs": [],
   "source": [
    "miss.unary_union.bounds"
   ]
  },
  {
   "cell_type": "code",
   "execution_count": null,
   "metadata": {
    "collapsed": true
   },
   "outputs": [],
   "source": [
    "extent = miss.unary_union.bounds\n",
    "lat_Center = (extent[1] + extent[3]) / 2\n",
    "lon_Center = (extent[0] + extent[2]) / 2"
   ]
  },
  {
   "cell_type": "code",
   "execution_count": null,
   "metadata": {
    "collapsed": true
   },
   "outputs": [],
   "source": [
    "miss = miss.to_crs({'init' :'epsg:4326'})"
   ]
  },
  {
   "cell_type": "code",
   "execution_count": null,
   "metadata": {
    "collapsed": false
   },
   "outputs": [],
   "source": [
    "miss.columns # use COMID in popup / and PCT for color and icon format"
   ]
  },
  {
   "cell_type": "code",
   "execution_count": null,
   "metadata": {
    "collapsed": true
   },
   "outputs": [],
   "source": [
    "def color(pct):\n",
    "    if pct <= 50:\n",
    "        col=('green','ok')\n",
    "    elif 50 < pct <= 75:\n",
    "        col=('blue','remove')\n",
    "    elif pct > 75:\n",
    "        col=('darkred','ban-circle')\n",
    "    return col  "
   ]
  },
  {
   "cell_type": "code",
   "execution_count": null,
   "metadata": {
    "collapsed": false
   },
   "outputs": [],
   "source": [
    "folium.Icon?"
   ]
  },
  {
   "cell_type": "code",
   "execution_count": null,
   "metadata": {
    "collapsed": true
   },
   "outputs": [],
   "source": [
    "folium.Map?"
   ]
  },
  {
   "cell_type": "code",
   "execution_count": null,
   "metadata": {
    "collapsed": false,
    "scrolled": false
   },
   "outputs": [],
   "source": [
    "import folium\n",
    "f_map=folium.Map(location=[lat_Center , lon_Center],zoom_start=6,tiles=\"OpenStreetMap\", control_scale=True)\n",
    "fg=folium.FeatureGroup(name=\"Lake Points\")\n",
    "for lat,lon,name,pct in zip(miss['geometry'].centroid.map(lambda p: p.y),miss['geometry'].centroid.map(lambda p: p.x),miss['COMID'],miss['PCT']):    \n",
    "    fg.add_child(folium.Marker(location=[lat,lon],popup=\"NHD Waterbody COMID: %s\" % int(name),\n",
    "                                   icon=folium.Icon(icon_color='white', color=color(pct)[0], icon=color(pct)[1])))\n",
    "f_map.add_child(fg)\n",
    "f_map.add_child(folium.GeoJson(data=open('%s/lks.json' % DL_dir),\n",
    "                name='NHD Lake',\n",
    "                style_function=lambda x: {'fillColor':'blue', \n",
    "                                          'fill_opacity': 0.2, \n",
    "                                          'color':'none'}))\n",
    "f_map.add_child(folium.GeoJson(data=open('%s/bsn.json' % DL_dir),\n",
    "                name='Catchment Basin',\n",
    "                style_function=lambda x: {'fillColor':'grey', \n",
    "                                          'fill_opacity': 0.74,\n",
    "                                          'color':'white'}))\n",
    "f_map.add_child(folium.GeoJson(data=open('%s/miss.json' % DL_dir),\n",
    "                name='Missed Area',\n",
    "                style_function=lambda x: {'fillColor':'red', \n",
    "                                          'fill_opacity': 0.2, \n",
    "                                          'color':'none'}))\n",
    "f_map.add_child(folium.LayerControl())"
   ]
  },
  {
   "cell_type": "code",
   "execution_count": null,
   "metadata": {
    "collapsed": true
   },
   "outputs": [],
   "source": [
    "f_map.save(outfile=r'%s\\lakesPoint.html' % DL_dir)"
   ]
  },
  {
   "cell_type": "markdown",
   "metadata": {},
   "source": [
    "## Links to icons to use with markers\n",
    "* [FontAwesome](http://fontawesome.io/icons/)\n",
    "* [GlyphIcons](http://glyphicons.bootstrapcheatsheets.com/)"
   ]
  },
  {
   "cell_type": "markdown",
   "metadata": {
    "collapsed": true
   },
   "source": [
    "## Here is the map of all lakes with > 50% coverage\n",
    "* # [All Over 50](http://debboutr.github.io/tot_1.html)"
   ]
  },
  {
   "cell_type": "markdown",
   "metadata": {},
   "source": [
    "## [Notebook](https://anaconda.org/debboutr/lightning/notebook) of bokeh package\n",
    "* # [Calapooia](http://debboutr.github.io/Calapooia_PolyCats.html)\n",
    "* # [DC Road Density](http://debboutr.github.io/DC_Plot_rdDens.html)"
   ]
  },
  {
   "cell_type": "code",
   "execution_count": null,
   "metadata": {
    "collapsed": false
   },
   "outputs": [],
   "source": [
    "type(lakes.ix[0].geometry)"
   ]
  },
  {
   "cell_type": "code",
   "execution_count": null,
   "metadata": {
    "collapsed": true
   },
   "outputs": [],
   "source": [
    "?pd.qcut"
   ]
  },
  {
   "cell_type": "code",
   "execution_count": null,
   "metadata": {
    "collapsed": false
   },
   "outputs": [],
   "source": [
    "list(lakes.ix[0].geometry.exterior.coords)"
   ]
  },
  {
   "cell_type": "code",
   "execution_count": null,
   "metadata": {
    "collapsed": false
   },
   "outputs": [],
   "source": []
  }
 ],
 "metadata": {
  "anaconda-cloud": {},
  "kernelspec": {
   "display_name": "Python [default]",
   "language": "python",
   "name": "python2"
  },
  "language_info": {
   "codemirror_mode": {
    "name": "ipython",
    "version": 2
   },
   "file_extension": ".py",
   "mimetype": "text/x-python",
   "name": "python",
   "nbconvert_exporter": "python",
   "pygments_lexer": "ipython2",
   "version": "2.7.12"
  }
 },
 "nbformat": 4,
 "nbformat_minor": 0
}
