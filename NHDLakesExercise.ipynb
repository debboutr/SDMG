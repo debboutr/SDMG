{
 "cells": [
  {
   "cell_type": "markdown",
   "metadata": {},
   "source": [
    "## Useful python commands when navigating environments"
   ]
  },
  {
   "cell_type": "code",
   "execution_count": 1,
   "metadata": {
    "collapsed": false
   },
   "outputs": [
    {
     "name": "stdout",
     "output_type": "stream",
     "text": [
      "C:\\Users\\Rdebbout\\AppData\\Local\\Continuum\\Anaconda2\\envs\\sdmg\n",
      "C:\\Users\\Rdebbout\\AppData\\Local\\Continuum\\Anaconda2\\envs\\sdmg\\python.exe\n",
      "C:\\Users\\Rdebbout\\Plot2Shps\\SDMG\n"
     ]
    }
   ],
   "source": [
    "import sys\n",
    "print sys.prefix\n",
    "print sys.executable\n",
    "import os\n",
    "print os.getcwd()"
   ]
  },
  {
   "cell_type": "markdown",
   "metadata": {
    "collapsed": false
   },
   "source": [
    "# Download this directory! \n",
    "[Click to download data for Exercise](https://www.dropbox.com/sh/dzc4b5hsn0dc9vf/AABrX5NoR6W-gakT3Wbdmxo9a?dl=1 \"Download\")"
   ]
  },
  {
   "cell_type": "markdown",
   "metadata": {},
   "source": [
    "# Point to where you have extracted the data below"
   ]
  },
  {
   "cell_type": "code",
   "execution_count": 2,
   "metadata": {
    "collapsed": true
   },
   "outputs": [],
   "source": [
    "DL_dir=r'C:\\Users\\Rdebbout\\Downloads\\SpatialData' #change this to the location of the extracted download directory  /home/rick/Downloads/SpatialData"
   ]
  },
  {
   "cell_type": "code",
   "execution_count": 3,
   "metadata": {
    "collapsed": false
   },
   "outputs": [
    {
     "name": "stdout",
     "output_type": "stream",
     "text": [
      "C:\\Users\\Rdebbout\n"
     ]
    }
   ],
   "source": [
    "%cd"
   ]
  },
  {
   "cell_type": "code",
   "execution_count": 4,
   "metadata": {
    "collapsed": false
   },
   "outputs": [],
   "source": [
    "% matplotlib inline\n",
    "import geopandas as gpd"
   ]
  },
  {
   "cell_type": "code",
   "execution_count": 5,
   "metadata": {
    "collapsed": false,
    "scrolled": true
   },
   "outputs": [
    {
     "name": "stdout",
     "output_type": "stream",
     "text": [
      "{'init': u'epsg:4269'}\n"
     ]
    }
   ],
   "source": [
    "# load into GeoDataFrame directly from shapefile\n",
    "lakes = gpd.GeoDataFrame.from_file(\"{}/NHDPlus16/NHDWaterbodies.shp\".format(DL_dir))  # %timeit \n",
    "print lakes.crs  #find the coordinate reference system -- GCS_North_American_1983"
   ]
  },
  {
   "cell_type": "code",
   "execution_count": 13,
   "metadata": {
    "collapsed": false
   },
   "outputs": [
    {
     "ename": "SyntaxError",
     "evalue": "invalid syntax (<ipython-input-13-d9a9912e0022>, line 1)",
     "output_type": "error",
     "traceback": [
      "\u001b[0;36m  File \u001b[0;32m\"<ipython-input-13-d9a9912e0022>\"\u001b[0;36m, line \u001b[0;32m1\u001b[0m\n\u001b[0;31m    lakes.ix[0]?\u001b[0m\n\u001b[0m               ^\u001b[0m\n\u001b[0;31mSyntaxError\u001b[0m\u001b[0;31m:\u001b[0m invalid syntax\n"
     ]
    }
   ],
   "source": [
    "lakes.ix[0]?"
   ]
  },
  {
   "cell_type": "code",
   "execution_count": 55,
   "metadata": {
    "collapsed": false,
    "scrolled": true
   },
   "outputs": [
    {
     "data": {
      "image/svg+xml": [
       "<svg xmlns=\"http://www.w3.org/2000/svg\" xmlns:xlink=\"http://www.w3.org/1999/xlink\" width=\"100.0\" height=\"100.0\" viewBox=\"-114.831900876 35.9643702668 0.00267688799585 0.00198308799696\" preserveAspectRatio=\"xMinYMin meet\"><g transform=\"matrix(1,0,0,-1,0,71.9307236217)\"><polyline fill=\"none\" stroke=\"#66cc99\" stroke-width=\"5.35377599169e-05\" points=\"-114.830139799,35.9661170775 -114.829660999,35.9662542108 -114.829407532,35.9662540775 -114.829323132,35.9661854108 -114.829435932,35.9660024108 -114.830844532,35.9648814108 -114.830844599,35.9646754108 -114.831013732,35.9644694108 -114.831126399,35.9644924108 -114.831773799,35.9646986775 -114.831801732,35.9650192108 -114.831463599,35.9654310108 -114.831266199,35.9657514108 -114.830843799,35.9658428108 -114.830674732,35.9660716108 -114.830139799,35.9661170775\" opacity=\"0.8\" /></g></svg>"
      ],
      "text/plain": [
       "<shapely.geometry.polygon.LinearRing at 0xb8005c0>"
      ]
     },
     "execution_count": 55,
     "metadata": {},
     "output_type": "execute_result"
    }
   ],
   "source": [
    "lakes.unary_union.geoms[0].exterior"
   ]
  },
  {
   "cell_type": "code",
   "execution_count": 56,
   "metadata": {
    "collapsed": true
   },
   "outputs": [],
   "source": [
    "import folium"
   ]
  },
  {
   "cell_type": "code",
   "execution_count": 57,
   "metadata": {
    "collapsed": true
   },
   "outputs": [],
   "source": [
    "folium.Icon?"
   ]
  },
  {
   "cell_type": "code",
   "execution_count": 49,
   "metadata": {
    "collapsed": false
   },
   "outputs": [
    {
     "data": {
      "text/plain": [
       "shapely.geometry.multipolygon.MultiPolygon"
      ]
     },
     "execution_count": 49,
     "metadata": {},
     "output_type": "execute_result"
    }
   ],
   "source": [
    "type(lakes.unary_union)"
   ]
  },
  {
   "cell_type": "code",
   "execution_count": 47,
   "metadata": {
    "collapsed": false
   },
   "outputs": [
    {
     "ename": "AttributeError",
     "evalue": "'MultiPolygon' object has no attribute 'interior'",
     "output_type": "error",
     "traceback": [
      "\u001b[0;31m------------------------------------------------------------------------\u001b[0m",
      "\u001b[0;31mAttributeError\u001b[0m                         Traceback (most recent call last)",
      "\u001b[0;32m<ipython-input-47-73c474d28487>\u001b[0m in \u001b[0;36m<module>\u001b[0;34m()\u001b[0m\n\u001b[0;32m----> 1\u001b[0;31m \u001b[0mlakes\u001b[0m\u001b[1;33m.\u001b[0m\u001b[0munary_union\u001b[0m\u001b[1;33m.\u001b[0m\u001b[0minterior\u001b[0m\u001b[1;33m.\u001b[0m\u001b[0mcoords\u001b[0m\u001b[1;33m.\u001b[0m\u001b[0mxy\u001b[0m\u001b[1;33m\u001b[0m\u001b[0m\n\u001b[0m",
      "\u001b[0;31mAttributeError\u001b[0m: 'MultiPolygon' object has no attribute 'interior'"
     ]
    }
   ],
   "source": [
    "lakes.unary_union.interior.coords.xy"
   ]
  },
  {
   "cell_type": "code",
   "execution_count": 6,
   "metadata": {
    "collapsed": false
   },
   "outputs": [
    {
     "name": "stdout",
     "output_type": "stream",
     "text": [
      "Number of records in lakes: 807\n",
      "Number of unique REACHCODEs: 797\n"
     ]
    },
    {
     "data": {
      "text/html": [
       "<div>\n",
       "<table border=\"1\" class=\"dataframe\">\n",
       "  <thead>\n",
       "    <tr style=\"text-align: right;\">\n",
       "      <th></th>\n",
       "      <th>AREASQKM</th>\n",
       "      <th>COMID</th>\n",
       "      <th>ELEVATION</th>\n",
       "      <th>FCODE</th>\n",
       "      <th>FDATE</th>\n",
       "      <th>FTYPE</th>\n",
       "      <th>GNIS_ID</th>\n",
       "      <th>GNIS_NAME</th>\n",
       "      <th>REACHCODE</th>\n",
       "      <th>RESOLUTION</th>\n",
       "      <th>SHAPE_AREA</th>\n",
       "      <th>SHAPE_LENG</th>\n",
       "      <th>VPU</th>\n",
       "      <th>geometry</th>\n",
       "    </tr>\n",
       "  </thead>\n",
       "  <tbody>\n",
       "    <tr>\n",
       "      <th>0</th>\n",
       "      <td>0.079</td>\n",
       "      <td>4562850</td>\n",
       "      <td>0.0</td>\n",
       "      <td>39004</td>\n",
       "      <td>1999-06-22</td>\n",
       "      <td>LakePond</td>\n",
       "      <td>None</td>\n",
       "      <td>None</td>\n",
       "      <td>16010202001481</td>\n",
       "      <td>Medium</td>\n",
       "      <td>0.000009</td>\n",
       "      <td>0.019938</td>\n",
       "      <td>16</td>\n",
       "      <td>POLYGON ((-111.855203003485 41.90411666828982,...</td>\n",
       "    </tr>\n",
       "    <tr>\n",
       "      <th>1</th>\n",
       "      <td>0.102</td>\n",
       "      <td>663806</td>\n",
       "      <td>0.0</td>\n",
       "      <td>39004</td>\n",
       "      <td>1999-06-22</td>\n",
       "      <td>LakePond</td>\n",
       "      <td>1446649</td>\n",
       "      <td>Tony Grove Lake</td>\n",
       "      <td>16010203000737</td>\n",
       "      <td>Medium</td>\n",
       "      <td>0.000011</td>\n",
       "      <td>0.015252</td>\n",
       "      <td>16</td>\n",
       "      <td>POLYGON ((-111.6456740038103 41.89611300163557...</td>\n",
       "    </tr>\n",
       "    <tr>\n",
       "      <th>2</th>\n",
       "      <td>0.036</td>\n",
       "      <td>663946</td>\n",
       "      <td>0.0</td>\n",
       "      <td>39004</td>\n",
       "      <td>1999-06-22</td>\n",
       "      <td>LakePond</td>\n",
       "      <td>None</td>\n",
       "      <td>None</td>\n",
       "      <td>16010203000755</td>\n",
       "      <td>Medium</td>\n",
       "      <td>0.000004</td>\n",
       "      <td>0.011745</td>\n",
       "      <td>16</td>\n",
       "      <td>POLYGON ((-111.7176358036986 41.75337126852378...</td>\n",
       "    </tr>\n",
       "    <tr>\n",
       "      <th>3</th>\n",
       "      <td>1.044</td>\n",
       "      <td>663954</td>\n",
       "      <td>1343.0</td>\n",
       "      <td>39010</td>\n",
       "      <td>1999-06-22</td>\n",
       "      <td>LakePond</td>\n",
       "      <td>None</td>\n",
       "      <td>None</td>\n",
       "      <td>16010203000753</td>\n",
       "      <td>Medium</td>\n",
       "      <td>0.000113</td>\n",
       "      <td>0.224490</td>\n",
       "      <td>16</td>\n",
       "      <td>POLYGON ((-111.9423262033498 41.7297770685604,...</td>\n",
       "    </tr>\n",
       "    <tr>\n",
       "      <th>4</th>\n",
       "      <td>0.037</td>\n",
       "      <td>663956</td>\n",
       "      <td>1343.0</td>\n",
       "      <td>39010</td>\n",
       "      <td>1999-06-22</td>\n",
       "      <td>LakePond</td>\n",
       "      <td>None</td>\n",
       "      <td>None</td>\n",
       "      <td>16010203000746</td>\n",
       "      <td>Medium</td>\n",
       "      <td>0.000004</td>\n",
       "      <td>0.010551</td>\n",
       "      <td>16</td>\n",
       "      <td>POLYGON ((-111.9461004700106 41.74514726853653...</td>\n",
       "    </tr>\n",
       "  </tbody>\n",
       "</table>\n",
       "</div>"
      ],
      "text/plain": [
       "   AREASQKM    COMID  ELEVATION  FCODE       FDATE     FTYPE  GNIS_ID  \\\n",
       "0     0.079  4562850        0.0  39004  1999-06-22  LakePond     None   \n",
       "1     0.102   663806        0.0  39004  1999-06-22  LakePond  1446649   \n",
       "2     0.036   663946        0.0  39004  1999-06-22  LakePond     None   \n",
       "3     1.044   663954     1343.0  39010  1999-06-22  LakePond     None   \n",
       "4     0.037   663956     1343.0  39010  1999-06-22  LakePond     None   \n",
       "\n",
       "         GNIS_NAME       REACHCODE RESOLUTION  SHAPE_AREA  SHAPE_LENG VPU  \\\n",
       "0             None  16010202001481     Medium    0.000009    0.019938  16   \n",
       "1  Tony Grove Lake  16010203000737     Medium    0.000011    0.015252  16   \n",
       "2             None  16010203000755     Medium    0.000004    0.011745  16   \n",
       "3             None  16010203000753     Medium    0.000113    0.224490  16   \n",
       "4             None  16010203000746     Medium    0.000004    0.010551  16   \n",
       "\n",
       "                                            geometry  \n",
       "0  POLYGON ((-111.855203003485 41.90411666828982,...  \n",
       "1  POLYGON ((-111.6456740038103 41.89611300163557...  \n",
       "2  POLYGON ((-111.7176358036986 41.75337126852378...  \n",
       "3  POLYGON ((-111.9423262033498 41.7297770685604,...  \n",
       "4  POLYGON ((-111.9461004700106 41.74514726853653...  "
      ]
     },
     "execution_count": 6,
     "metadata": {},
     "output_type": "execute_result"
    }
   ],
   "source": [
    "# attribute table\n",
    "import pandas as pd\n",
    "print \"Number of records in lakes: {}\".format(len(lakes))\n",
    "print \"Number of unique REACHCODEs: {}\".format(len(pd.unique(lakes.REACHCODE)))\n",
    "#lakes.set_index('REACHCODE', inplace=True)\n",
    "lakes.head()"
   ]
  },
  {
   "cell_type": "code",
   "execution_count": null,
   "metadata": {
    "collapsed": false
   },
   "outputs": [],
   "source": [
    "print type(lakes.FTYPE)\n",
    "print lakes.FTYPE[0] # returns index in the series, change to index of REACHCODE above if that was index set"
   ]
  },
  {
   "cell_type": "code",
   "execution_count": null,
   "metadata": {
    "collapsed": false
   },
   "outputs": [],
   "source": [
    "print lakes.dtypes"
   ]
  },
  {
   "cell_type": "code",
   "execution_count": null,
   "metadata": {
    "collapsed": false
   },
   "outputs": [],
   "source": [
    "print lakes.index.dtype\n",
    "print lakes.index"
   ]
  },
  {
   "cell_type": "code",
   "execution_count": null,
   "metadata": {
    "collapsed": false
   },
   "outputs": [],
   "source": [
    "print len(lakes)\n",
    "lakes.plot()  #Visualize"
   ]
  },
  {
   "cell_type": "code",
   "execution_count": null,
   "metadata": {
    "collapsed": true
   },
   "outputs": [],
   "source": [
    "lakes.plot?"
   ]
  },
  {
   "cell_type": "code",
   "execution_count": null,
   "metadata": {
    "collapsed": false
   },
   "outputs": [],
   "source": [
    "lake = lakes.ix[lakes.COMID == 8914219] \n",
    "lake.plot()  # add figsize"
   ]
  },
  {
   "cell_type": "code",
   "execution_count": null,
   "metadata": {
    "collapsed": false,
    "scrolled": true
   },
   "outputs": [],
   "source": [
    "cats = gpd.GeoDataFrame.from_file(\"{}/NHDPlus16/NHDCatchment.shp\".format(DL_dir))\n",
    "basin = cats.ix[cats.FEATUREID.isin(range(8915961,8915984,2))]\n",
    "print \"Max area catchment: %s SQKM\" % basin.AreaSqKM.max()\n",
    "print \"Min area catchment: %s SQKM\" % basin.AreaSqKM.min()\n",
    "print \"Mean area of all catchments: %s SQKM\" % basin.AreaSqKM.mean()\n",
    "print \"STD of all catchments: %s\" % basin.AreaSqKM.std()\n",
    "basin.plot(column='AreaSqKM', cmap=\"brg\")"
   ]
  },
  {
   "cell_type": "code",
   "execution_count": null,
   "metadata": {
    "collapsed": true
   },
   "outputs": [],
   "source": [
    "sort_values()"
   ]
  },
  {
   "cell_type": "code",
   "execution_count": null,
   "metadata": {
    "collapsed": true
   },
   "outputs": [],
   "source": [
    "lakes.loc?"
   ]
  },
  {
   "cell_type": "code",
   "execution_count": null,
   "metadata": {
    "collapsed": false,
    "scrolled": true
   },
   "outputs": [],
   "source": [
    "lakes.loc[lakes['COMID'] == 4562850]\n",
    "lakes.ix[lakes.COMID == 4562850]\n",
    "lakes.ix[lakes.COMID.isin([4562850])]\n",
    "lakes.query(\"COMID == 4562850\")"
   ]
  },
  {
   "cell_type": "code",
   "execution_count": null,
   "metadata": {
    "collapsed": false
   },
   "outputs": [],
   "source": [
    "lakes.ix[lakes.COMID.isin([4562850])].plot()"
   ]
  },
  {
   "cell_type": "code",
   "execution_count": null,
   "metadata": {
    "collapsed": false
   },
   "outputs": [],
   "source": [
    "import matplotlib.pyplot as plt\n",
    "#plt.style.use(\"default\")\n",
    "fig, ax = plt.subplots(1, figsize=(3.5,7))\n",
    "base = lake.plot(ax=ax, color='blue')\n",
    "basin.plot(ax=base, color='red') #\n",
    "ax.axis('off')\n",
    "ax.set_title(\"Plot of Lake with Catchment\")"
   ]
  },
  {
   "cell_type": "code",
   "execution_count": null,
   "metadata": {
    "collapsed": false,
    "scrolled": false
   },
   "outputs": [],
   "source": [
    "basin.crs"
   ]
  },
  {
   "cell_type": "code",
   "execution_count": null,
   "metadata": {
    "collapsed": false
   },
   "outputs": [],
   "source": [
    "print type(basin['geometry'])\n",
    "print type(basin.ix[1990].geometry) # key in on output from this\n",
    "print basin.ix[1990].geometry.area\n",
    "print basin.ix[1990].geometry.length\n",
    "#convert to new crs for output in meteres\n",
    "basin_albers = basin.to_crs({'init' :'epsg:5070'})\n",
    "print basin_albers.ix[1990].geometry.area\n",
    "print basin_albers.ix[1990].geometry.length"
   ]
  },
  {
   "cell_type": "code",
   "execution_count": null,
   "metadata": {
    "collapsed": false,
    "scrolled": true
   },
   "outputs": [],
   "source": [
    "#import sys\n",
    "#import pandas as pd\n",
    "#import geopandas as gpd\n",
    "#from datetime import datetime as dt\n",
    "from StreamCat_functions import findUpstreamNpy\n",
    "DL_dir = r'/home/rick/Downloads/SpatialData'\n",
    "zone = '16'\n",
    "lakes = gpd.GeoDataFrame.from_file('%s/NHDPlus%s/NHDWaterbodies.shp' % (DL_dir, zone)).to_crs({'init' :'epsg:5070'})\n",
    "cats = gpd.GeoDataFrame.from_file('%s/NHDPlus%s/NHDCatchment.shp' % (DL_dir, zone)).to_crs({'init' :'epsg:5070'}) \n",
    "lookup = pd.read_csv('%s/lookupCOMS%s.csv' % (DL_dir, zone))\n",
    "\n",
    "lks = gpd.GeoDataFrame()\n",
    "bsn = gpd.GeoDataFrame()\n",
    "miss = gpd.GeoDataFrame()\n",
    "\n",
    "for idx, row in lookup.iterrows():\n",
    "    lake = lakes.ix[lakes.COMID == row.wbCOMID]\n",
    "    catbas = findUpstreamNpy(zone, int(row.catCOMID), DL_dir)\n",
    "    basin = cats.ix[cats.FEATUREID.isin(catbas)]\n",
    "    try: \n",
    "        diffgeom = lake['geometry'].difference(basin.unary_union.buffer(0))\n",
    "        pct = diffgeom.area / lake.area * 100\n",
    "        if pct.values[0] > 20:\n",
    "            lks = pd.concat([lks, lake])\n",
    "            bsn = pd.concat([bsn, basin])\n",
    "            miss = pd.concat([miss, gpd.GeoDataFrame(data={'COMID': row.wbCOMID,'PCT': pct}, geometry=diffgeom)])\n",
    "    except:\n",
    "        print row.wbCOMID\n",
    "        continue\n",
    "lks.to_crs({'init' :'epsg:4326'}).to_file(r\"%s\\lks.json\" % DL_dir, driver=\"GeoJSON\")\n",
    "bsn.to_crs({'init' :'epsg:4326'}).to_file(r\"%s\\bsn.json\" % DL_dir, driver=\"GeoJSON\")\n",
    "miss.to_crs({'init' :'epsg:4326'}).to_file(r\"%s\\miss.json\" % DL_dir, driver=\"GeoJSON\")\n",
    "miss = miss.to_crs({'init' :'epsg:4326'})"
   ]
  },
  {
   "cell_type": "code",
   "execution_count": null,
   "metadata": {
    "collapsed": false
   },
   "outputs": [],
   "source": [
    "center_point = lakes.to_crs({'init' :'epsg:4326'}).unary_union.buffer(0).centroid\n",
    "print center_point.x\n",
    "print center_point.y"
   ]
  },
  {
   "cell_type": "code",
   "execution_count": null,
   "metadata": {
    "collapsed": true
   },
   "outputs": [],
   "source": [
    "extent = miss.unary_union.bounds\n",
    "lat_Center = (extent[1] + extent[3]) / 2\n",
    "lon_Center = (extent[0] + extent[2]) / 2"
   ]
  },
  {
   "cell_type": "code",
   "execution_count": null,
   "metadata": {
    "collapsed": true
   },
   "outputs": [],
   "source": [
    "miss = miss.to_crs({'init' :'epsg:4326'})"
   ]
  },
  {
   "cell_type": "code",
   "execution_count": null,
   "metadata": {
    "collapsed": false
   },
   "outputs": [],
   "source": [
    "miss.columns # use COMID in popup / and PCT for color and icon format"
   ]
  },
  {
   "cell_type": "code",
   "execution_count": null,
   "metadata": {
    "collapsed": true
   },
   "outputs": [],
   "source": [
    "def color(pct):\n",
    "    if pct <= 50:\n",
    "        col=('green','ok')\n",
    "    elif 50 < pct <= 75:\n",
    "        col=('blue','remove')\n",
    "    elif pct > 75:\n",
    "        col=('darkred','ban-circle')\n",
    "    return col  "
   ]
  },
  {
   "cell_type": "code",
   "execution_count": null,
   "metadata": {
    "collapsed": false
   },
   "outputs": [],
   "source": [
    "folium.Icon?"
   ]
  },
  {
   "cell_type": "code",
   "execution_count": null,
   "metadata": {
    "collapsed": true
   },
   "outputs": [],
   "source": [
    "folium.Map?"
   ]
  },
  {
   "cell_type": "code",
   "execution_count": null,
   "metadata": {
    "collapsed": false,
    "scrolled": false
   },
   "outputs": [],
   "source": [
    "import folium\n",
    "f_map=folium.Map(location=[lat_Center , lon_Center],zoom_start=6,tiles=\"Stamen Terrain\", control_scale=True)\n",
    "fg=folium.FeatureGroup(name=\"Lake Points\")\n",
    "for lat,lon,name,pct in zip(miss['geometry'].centroid.map(lambda p: p.y),miss['geometry'].centroid.map(lambda p: p.x),miss['COMID'],miss['PCT']):    \n",
    "    fg.add_child(folium.Marker(location=[lat,lon],popup=\"NHD Waterbody COMID: %s\" % int(name),\n",
    "                                   icon=folium.Icon(icon_color='white', color=color(pct)[0], icon=color(pct)[1])))\n",
    "f_map.add_child(fg)\n",
    "f_map.add_child(folium.GeoJson(data=open(r'%s\\lks.json' % DL_dir),\n",
    "                name='NHD Lake',\n",
    "                style_function=lambda x: {'fillColor':'blue', \n",
    "                                          'fill_opacity': 0.2, \n",
    "                                          'color':'none'}))\n",
    "f_map.add_child(folium.GeoJson(data=open(r'%s\\bsn.json' % DL_dir),\n",
    "                name='Catchment Basin',\n",
    "                style_function=lambda x: {'fillColor':'grey', \n",
    "                                          'fill_opacity': 0.74,\n",
    "                                          'color':'white'}))\n",
    "f_map.add_child(folium.GeoJson(data=open(r'%s\\miss.json' % DL_dir),\n",
    "                name='Missed Area',\n",
    "                style_function=lambda x: {'fillColor':'red', \n",
    "                                          'fill_opacity': 0.2, \n",
    "                                          'color':'none'}))\n",
    "f_map.add_child(folium.LayerControl())"
   ]
  },
  {
   "cell_type": "code",
   "execution_count": null,
   "metadata": {
    "collapsed": true
   },
   "outputs": [],
   "source": [
    "f_map.save(outfile=r'%s\\lakesPoint.html' % DL_dir)"
   ]
  },
  {
   "cell_type": "markdown",
   "metadata": {},
   "source": [
    "## Links to icons to use with markers\n",
    "* [FontAwesome](http://fontawesome.io/icons/)\n",
    "* [GlyphIcons](http://glyphicons.bootstrapcheatsheets.com/)"
   ]
  },
  {
   "cell_type": "markdown",
   "metadata": {
    "collapsed": true
   },
   "source": [
    "## Here is the map of all lakes with > 50% coverage\n",
    "* # [All Over 50](http://debboutr.github.io/tot_1.html)"
   ]
  },
  {
   "cell_type": "markdown",
   "metadata": {},
   "source": [
    "## [Notebook](https://anaconda.org/debboutr/lightning/notebook) of bokeh package\n",
    "* # [Calapooia](http://debboutr.github.io/Calapooia_PolyCats.html)\n",
    "* # [DC Road Density](http://debboutr.github.io/DC_Plot_rdDens.html)"
   ]
  },
  {
   "cell_type": "code",
   "execution_count": null,
   "metadata": {
    "collapsed": true
   },
   "outputs": [],
   "source": []
  }
 ],
 "metadata": {
  "anaconda-cloud": {},
  "kernelspec": {
   "display_name": "Python [default]",
   "language": "python",
   "name": "python2"
  },
  "language_info": {
   "codemirror_mode": {
    "name": "ipython",
    "version": 2
   },
   "file_extension": ".py",
   "mimetype": "text/x-python",
   "name": "python",
   "nbconvert_exporter": "python",
   "pygments_lexer": "ipython2",
   "version": "2.7.12"
  }
 },
 "nbformat": 4,
 "nbformat_minor": 0
}
