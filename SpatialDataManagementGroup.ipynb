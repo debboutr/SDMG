{
 "cells": [
  {
   "cell_type": "markdown",
   "metadata": {},
   "source": [
    "# packages for spatial analysis with: ![python](./images/python.png) ![anaconda](./images/anaconda.png)\n",
    "[Download Anaconda](https://www.continuum.io/downloads)\n",
    "![git](./images/git.png)\n",
    "https://git-scm.com/downloads"
   ]
  },
  {
   "cell_type": "markdown",
   "metadata": {},
   "source": [
    "### **To create the virtual environment, start with the following command:**\n",
    "\n",
    "#  C:\\\\> conda create -n envName jupyter geopandas folium"
   ]
  },
  {
   "cell_type": "code",
   "execution_count": null,
   "metadata": {
    "collapsed": true
   },
   "outputs": [],
   "source": [
    "# talk about gi clone vs. git fork\n",
    "# add arcpy difference\n",
    "# talk about windows command prompt git\n",
    "# addition of vim"
   ]
  },
  {
   "cell_type": "code",
   "execution_count": null,
   "metadata": {
    "collapsed": true
   },
   "outputs": [],
   "source": []
  },
  {
   "cell_type": "markdown",
   "metadata": {},
   "source": [
    "# QA LakeCat Dataset"
   ]
  },
  {
   "cell_type": "markdown",
   "metadata": {},
   "source": [
    "The following code walk through the process of finding local lake basins with the on-network accumulation process. For each lake, we report the \"catchment\" statistics as a landscape summarization of the NHD Catchments associated by flowlines that hold the waterbodies COMID in the \"WBAREACOMI\" field. Using geopandas, we can do a unary_union with these catchments and compare the overlapping areas using the 'difference' method built in to geopandas. This script selects polys where we find less than 50% of the lake is covered by it's associated catchments and plots them with the folium package for a slippy map of each of the instances of poor coverage."
   ]
  },
  {
   "cell_type": "code",
   "execution_count": 2,
   "metadata": {
    "collapsed": true
   },
   "outputs": [],
   "source": [
    "from StreamCat_functions import findUpstreamNpy"
   ]
  },
  {
   "cell_type": "markdown",
   "metadata": {
    "collapsed": true
   },
   "source": [
    "![LakeCat](./images/linked.png)\n",
    "\n",
    "_**LakeCat** sumarizes landscape metrics for **NHDWaterBody** watersheds. In order to report an accurate local basin for each, an array of **NHDCatchments** are accumlated in cases where more than one needed to cover the waterbody polygon_\n",
    "\n",
    "_**NHDFlowlines** hold WBAREACOMI attribute that links flowlines to lakes.  We map those to catchments and come up with the local_ 'catchment' _basin, described in the 'Cat' statistics in LakeCat. This is a hybridized version of what the individual catchment is, the basin needs to cover the geometry of the water feature that it is describing_"
   ]
  },
  {
   "cell_type": "code",
   "execution_count": 8,
   "metadata": {
    "collapsed": false
   },
   "outputs": [],
   "source": [
    "#import os\n",
    "import numpy as np\n",
    "#import sys\n",
    "import geopandas as gpd\n",
    "#sys.path.append('/home/rick/projects/SDMG')\n",
    "from StreamCat_functions import findUpstreamNpy\n",
    "\n",
    "numpy_dir = '/media/rick/600ABCCF0ABCA386/Users/rick/Documents/SDMG_Lakes/On_Net_Npy_files/children'\n",
    "zone = '03W'\n",
    "comids = np.load(numpy_dir + '/comids' + zone + '.npy')\n",
    "\n",
    "lakes = gpd.GeoDataFrame.from_file('/media/rick/gitSum/NHDv21/NHDPlusSA/NHDPlus03W/NHDSnapshot/Hydrography/NHDWaterbody.shp')\n"
   ]
  },
  {
   "cell_type": "code",
   "execution_count": 1,
   "metadata": {
    "collapsed": false
   },
   "outputs": [
    {
     "data": {
      "text/plain": [
       "'C:\\\\Users\\\\Rdebbout\\\\Plot2Shps\\\\SDMG'"
      ]
     },
     "execution_count": 1,
     "metadata": {},
     "output_type": "execute_result"
    }
   ],
   "source": [
    "import os\n",
    "os.getcwd()"
   ]
  },
  {
   "cell_type": "code",
   "execution_count": 1,
   "metadata": {
    "collapsed": true
   },
   "outputs": [],
   "source": [
    "% matplotlib inline\n",
    "import geopandas as gpd"
   ]
  },
  {
   "cell_type": "code",
   "execution_count": 22,
   "metadata": {
    "collapsed": false
   },
   "outputs": [
    {
     "data": {
      "text/plain": [
       "<matplotlib.axes._subplots.AxesSubplot at 0x159df198>"
      ]
     },
     "execution_count": 22,
     "metadata": {},
     "output_type": "execute_result"
    },
    {
     "data": {
      "image/png": "[encoded data removed]",
      "text/plain": [
       "<matplotlib.figure.Figure at 0x159e8780>"
      ]
     },
     "metadata": {},
     "output_type": "display_data"
    }
   ],
   "source": [
    "basin = gpd.GeoDataFrame.from_file(\"basin.shp\")\n",
    "basin.plot(column='FEATUREID', cmap=\"gist_earth\")"
   ]
  },
  {
   "cell_type": "code",
   "execution_count": 26,
   "metadata": {
    "collapsed": false
   },
   "outputs": [
    {
     "data": {
      "text/plain": [
       "<matplotlib.text.Text at 0x160699e8>"
      ]
     },
     "execution_count": 26,
     "metadata": {},
     "output_type": "execute_result"
    },
    {
     "data": {
      "image/png": "[encoded data removed]",
      "text/plain": [
       "<matplotlib.figure.Figure at 0x15f46160>"
      ]
     },
     "metadata": {},
     "output_type": "display_data"
    }
   ],
   "source": [
    "import matplotlib.pyplot as plt\n",
    "#plt.style.use(\"default\")\n",
    "fig, ax = plt.subplots(1, figsize=(3.5,7))\n",
    "base = lake.plot(ax=ax, color='blue')\n",
    "basin.plot(ax=base, color='grey') \n",
    "ax.axis('off')\n",
    "ax.set_title(\"Plot of Lake with Catchment\")"
   ]
  },
  {
   "cell_type": "code",
   "execution_count": 27,
   "metadata": {
    "collapsed": true
   },
   "outputs": [],
   "source": [
    "?gpd.GeoDataFrame.plot"
   ]
  },
  {
   "cell_type": "code",
   "execution_count": 15,
   "metadata": {
    "collapsed": false,
    "scrolled": true
   },
   "outputs": [
    {
     "data": {
      "text/html": [
       "<div>\n",
       "<table border=\"1\" class=\"dataframe\">\n",
       "  <thead>\n",
       "    <tr style=\"text-align: right;\">\n",
       "      <th></th>\n",
       "      <th>AreaSqKM</th>\n",
       "      <th>FEATUREID</th>\n",
       "      <th>GRIDCODE</th>\n",
       "      <th>SOURCEFC</th>\n",
       "      <th>geometry</th>\n",
       "    </tr>\n",
       "  </thead>\n",
       "  <tbody>\n",
       "    <tr>\n",
       "      <th>0</th>\n",
       "      <td>0.1548</td>\n",
       "      <td>1861984</td>\n",
       "      <td>2824262</td>\n",
       "      <td>NHDFlowline</td>\n",
       "      <td>POLYGON ((-88.37909406266083 37.07336524302247...</td>\n",
       "    </tr>\n",
       "  </tbody>\n",
       "</table>\n",
       "</div>"
      ],
      "text/plain": [
       "   AreaSqKM  FEATUREID  GRIDCODE     SOURCEFC  \\\n",
       "0    0.1548    1861984   2824262  NHDFlowline   \n",
       "\n",
       "                                            geometry  \n",
       "0  POLYGON ((-88.37909406266083 37.07336524302247...  "
      ]
     },
     "execution_count": 15,
     "metadata": {},
     "output_type": "execute_result"
    }
   ],
   "source": [
    "basin.head()"
   ]
  },
  {
   "cell_type": "markdown",
   "metadata": {
    "collapsed": false
   },
   "source": [
    "'''TopologyException: Input geom 0 is invalid: Ring Self-intersection at or near point -83.55969418159917 36.3934340772607 at -83.55969418159917 36.3934340772607\n",
    "Traceback (most recent call last):\n",
    "\n",
    "  File \"<ipython-input-191-382f35277760>\", line 6, in <module>\n",
    "    diffgeom = lake['geometry'].difference(basin.unary_union.buffer(0))\n",
    "\n",
    "  File \"C:\\Users\\Rdebbout\\AppData\\Local\\Continuum\\Anaconda2\\envs\\epa\\lib\\site-packages\\geopandas\\base.py\", line 192, in unary_union\n",
    "    return unary_union(self.geometry.values)\n",
    "\n",
    "  File \"C:\\Users\\Rdebbout\\AppData\\Local\\Continuum\\Anaconda2\\envs\\epa\\lib\\site-packages\\shapely\\ops.py\", line 148, in unary_union\n",
    "    return geom_factory(lgeos.methods['unary_union'](collection))\n",
    "\n",
    "  File \"C:\\Users\\Rdebbout\\AppData\\Local\\Continuum\\Anaconda2\\envs\\epa\\lib\\site-packages\\shapely\\geometry\\base.py\", line 65, in geom_factory\n",
    "    raise ValueError(\"No Shapely geometry can be created from null value\")\n",
    "\n",
    "ValueError: No Shapely geometry can be created from null value'''"
   ]
  },
  {
   "cell_type": "markdown",
   "metadata": {},
   "source": [
    "# Querying attributes"
   ]
  },
  {
   "cell_type": "code",
   "execution_count": 45,
   "metadata": {
    "collapsed": false,
    "scrolled": true
   },
   "outputs": [
    {
     "data": {
      "text/html": [
       "<div>\n",
       "<table border=\"1\" class=\"dataframe\">\n",
       "  <thead>\n",
       "    <tr style=\"text-align: right;\">\n",
       "      <th></th>\n",
       "      <th>AREASQKM</th>\n",
       "      <th>COMID</th>\n",
       "      <th>ELEVATION</th>\n",
       "      <th>FCODE</th>\n",
       "      <th>FDATE</th>\n",
       "      <th>FTYPE</th>\n",
       "      <th>GNIS_ID</th>\n",
       "      <th>GNIS_NAME</th>\n",
       "      <th>REACHCODE</th>\n",
       "      <th>RESOLUTION</th>\n",
       "      <th>SHAPE_AREA</th>\n",
       "      <th>SHAPE_LENG</th>\n",
       "      <th>VPU</th>\n",
       "      <th>geometry</th>\n",
       "    </tr>\n",
       "  </thead>\n",
       "  <tbody>\n",
       "    <tr>\n",
       "      <th>53263</th>\n",
       "      <td>78.247</td>\n",
       "      <td>936010061</td>\n",
       "      <td>389.0</td>\n",
       "      <td>39009</td>\n",
       "      <td>2009-04-02</td>\n",
       "      <td>LakePond</td>\n",
       "      <td>None</td>\n",
       "      <td>None</td>\n",
       "      <td>06010204008777</td>\n",
       "      <td>Medium</td>\n",
       "      <td>0.007782</td>\n",
       "      <td>5.634971</td>\n",
       "      <td>06</td>\n",
       "      <td>POLYGON Z ((-84.25051737966635 35.779711611129...</td>\n",
       "    </tr>\n",
       "  </tbody>\n",
       "</table>\n",
       "</div>"
      ],
      "text/plain": [
       "       AREASQKM      COMID  ELEVATION  FCODE       FDATE     FTYPE GNIS_ID  \\\n",
       "53263    78.247  936010061      389.0  39009  2009-04-02  LakePond    None   \n",
       "\n",
       "      GNIS_NAME       REACHCODE RESOLUTION  SHAPE_AREA  SHAPE_LENG VPU  \\\n",
       "53263      None  06010204008777     Medium    0.007782    5.634971  06   \n",
       "\n",
       "                                                geometry  \n",
       "53263  POLYGON Z ((-84.25051737966635 35.779711611129...  "
      ]
     },
     "execution_count": 45,
     "metadata": {},
     "output_type": "execute_result"
    }
   ],
   "source": [
    "lakes.loc?\n",
    "lakes.loc[lakes['COMID'] == 936010061]\n",
    "lakes.ix[lakes.COMID == 936010061]\n",
    "lakes.ix[lakes.COMID.isin([936010061])]\n",
    "lakes.query(\"COMID == 936010061\")"
   ]
  },
  {
   "cell_type": "code",
   "execution_count": 58,
   "metadata": {
    "collapsed": false
   },
   "outputs": [],
   "source": [
    "import sys\n",
    "import pandas as pd\n",
    "sys.path.append('D:/Projects/StreamCat')\n",
    "from StreamCat_functions import findUpstreamNpy, makeVPUdict\n",
    "\n",
    "NHD_dir = 'D:/NHDPlusV21'\n",
    "inputs = makeVPUdict(NHD_dir)\n",
    "zone = '17'\n",
    "hr = inputs[zone]\n",
    "lakes = lksnet.ix[lksnet.VPU == zone]  \n",
    "cats = gpd.GeoDataFrame.from_file('%s/NHDPlus%s/NHDPlus%s/NHDPlusCatchment/Catchment.shp' % (NHD_dir,hr, zone))   \n",
    "lookup = pd.read_csv('D:/Projects/lakesAnalysis/On_Network_LakeCOMs/LakeCOMs%s.csv' % zone)"
   ]
  },
  {
   "cell_type": "code",
   "execution_count": 59,
   "metadata": {
    "collapsed": false
   },
   "outputs": [
    {
     "name": "stderr",
     "output_type": "stream",
     "text": [
      "TopologyException: Input geom 1 is invalid: Ring Self-intersection at or near point -115.29754750037107 48.494238237055328 at -115.29754750037107 48.494238237055328\n"
     ]
    },
    {
     "name": "stdout",
     "output_type": "stream",
     "text": [
      "22886855.0\n"
     ]
    },
    {
     "name": "stderr",
     "output_type": "stream",
     "text": [
      "TopologyException: Input geom 1 is invalid: Ring Self-intersection at or near point -113.89630804569528 48.294582836107509 at -113.89630804569528 48.294582836107509\n"
     ]
    },
    {
     "name": "stdout",
     "output_type": "stream",
     "text": [
      "22971534.0\n"
     ]
    },
    {
     "name": "stderr",
     "output_type": "stream",
     "text": [
      "TopologyException: Input geom 1 is invalid: Ring Self-intersection at or near point -118.07544650636063 47.240948484611607 at -118.07544650636063 47.240948484611607\n"
     ]
    },
    {
     "name": "stdout",
     "output_type": "stream",
     "text": [
      "23466505.0\n"
     ]
    },
    {
     "name": "stderr",
     "output_type": "stream",
     "text": [
      "TopologyException: Input geom 0 is invalid: Ring Self-intersection at or near point -112.14484920303542 43.385591732656884 0 at -112.14484920303542 43.385591732656884 0\n",
      "Ring Self-intersection at or near point -112.14484920303542 43.385591732656884 0\n"
     ]
    },
    {
     "name": "stdout",
     "output_type": "stream",
     "text": [
      "24566837.0\n"
     ]
    },
    {
     "name": "stderr",
     "output_type": "stream",
     "text": [
      "TopologyException: found non-noded intersection between LINESTRING (-116.943 44.784, -116.943 44.7842) and LINESTRING (-116.943 44.7843, -116.943 44.7842) at -116.94288496198675 44.784166977543826 0\n"
     ]
    },
    {
     "name": "stdout",
     "output_type": "stream",
     "text": [
      "120054057.0\n"
     ]
    }
   ],
   "source": [
    "lks = gpd.GeoDataFrame()\n",
    "bsn = gpd.GeoDataFrame()\n",
    "miss = gpd.GeoDataFrame()\n",
    "\n",
    "for idx, row in lookup.iterrows():\n",
    "    lake = lakes.ix[lakes.COMID == row.wbCOMID]\n",
    "    catbas = findUpstreamNpy(zone, int(row.catCOMID), catnumps)\n",
    "    basin = cats.ix[cats.FEATUREID.isin(catbas)]\n",
    "    try: \n",
    "        diffgeom = lake['geometry'].difference(basin.unary_union.buffer(0))\n",
    "        pct = diffgeom.area / lake.area * 100\n",
    "        if pct.values[0] > 50:\n",
    "            lks = pd.concat([lks, lake])\n",
    "            bsn = pd.concat([bsn, basin])\n",
    "            miss = pd.concat([miss, gpd.GeoDataFrame(geometry=diffgeom)])\n",
    "    except:\n",
    "        print row.wbCOMID\n",
    "        continue"
   ]
  },
  {
   "cell_type": "code",
   "execution_count": 61,
   "metadata": {
    "collapsed": false
   },
   "outputs": [],
   "source": [
    "lks.to_crs({'init' :'epsg:4326'}).to_file(r\"C:\\Users\\Rdebbout\\Plot2Shps\\lks.json\",driver=\"GeoJSON\")\n",
    "bsn.to_crs({'init' :'epsg:4326'}).to_file(r\"C:\\Users\\Rdebbout\\Plot2Shps\\bsn.json\",driver=\"GeoJSON\")\n",
    "miss.to_crs({'init' :'epsg:4326'}).to_file(r\"C:\\Users\\Rdebbout\\Plot2Shps\\miss.json\",driver=\"GeoJSON\")"
   ]
  },
  {
   "cell_type": "code",
   "execution_count": 66,
   "metadata": {
    "collapsed": false
   },
   "outputs": [
    {
     "name": "stdout",
     "output_type": "stream",
     "text": [
      "-117.473402978\n",
      "45.9604085477\n"
     ]
    }
   ],
   "source": [
    "center_point = lakes.unary_union.buffer(0).centroid\n",
    "print center_point.x\n",
    "print center_point.y"
   ]
  },
  {
   "cell_type": "code",
   "execution_count": 95,
   "metadata": {
    "collapsed": false
   },
   "outputs": [],
   "source": [
    "import folium\n",
    "map=folium.Map(location=[45.96040854768601, -117.47340297823],zoom_start=6,tiles=\"Stamen Terrain\")\n",
    "fg=folium.FeatureGroup(name=\"Lake Points\")\n",
    "for lat,lon,name in zip(lks['geometry'].centroid.map(lambda p: p.y),lks['geometry'].centroid.map(lambda p: p.x),lks['COMID']):\n",
    "        fg.add_child(folium.Marker(location=[lat,lon],popup=name.map(lambda x: \"NHD Waterbody COMID: %s\" % x),\n",
    "                                   icon=folium.Icon(icon_color='black')))\n",
    "map.add_child(fg)\n",
    "map.add_child(folium.GeoJson(data=open(r'C:\\Users\\Rdebbout\\Plot2Shps\\lks.json'),\n",
    "                name='NHD Lake',\n",
    "                style_function=lambda x: {'fillColor':'blue', 'fill_opacity': 0.2, 'color':'black'}))\n",
    "map.add_child(folium.GeoJson(data=open(r'C:\\Users\\Rdebbout\\Plot2Shps\\bsn.json'),\n",
    "                name='Catchment Basin',\n",
    "                style_function=lambda x: {'fillColor':'grey', \n",
    "                          'fill_opacity': 0.47,}))\n",
    "map.add_child(folium.GeoJson(data=open(r'C:\\Users\\Rdebbout\\Plot2Shps\\miss.json'),\n",
    "                name='Missed Area',\n",
    "                style_function=lambda x: {'fillColor':'red', 'fill_opacity': 0.2, 'color':'none'}))\n",
    "map.add_child(folium.LayerControl())\n",
    "map.save(outfile=r'C:\\Users\\Rdebbout\\Plot2Shps\\lakesPoint.html')"
   ]
  },
  {
   "cell_type": "code",
   "execution_count": 88,
   "metadata": {
    "collapsed": false
   },
   "outputs": [
    {
     "name": "stdout",
     "output_type": "stream",
     "text": [
      "Lat: 48.9586739639 \n",
      "Lon: -115.968621199 \n",
      "COMID: 22902910\n",
      "Lat: 48.6921599653 \n",
      "Lon: -116.243963678 \n",
      "COMID: 22908317\n",
      "Lat: 47.2077477455 \n",
      "Lon: -113.177224942 \n",
      "COMID: 22926742\n",
      "Lat: 47.6728067469 \n",
      "Lon: -113.479367102 \n",
      "COMID: 22971734\n",
      "Lat: 47.5241780253 \n",
      "Lon: -115.16709696 \n",
      "COMID: 22984000\n",
      "Lat: 48.7406921866 \n",
      "Lon: -118.167167349 \n",
      "COMID: 23044053\n",
      "Lat: 48.1775633809 \n",
      "Lon: -120.587980031 \n",
      "COMID: 23078055\n",
      "Lat: 44.0589838741 \n",
      "Lon: -110.717825411 \n",
      "COMID: 23127353\n",
      "Lat: 43.7857736839 \n",
      "Lon: -110.533750997 \n",
      "COMID: 23127941\n",
      "Lat: 43.7184108775 \n",
      "Lon: -110.375800271 \n",
      "COMID: 23128057\n",
      "Lat: 43.0051297178 \n",
      "Lon: -111.435738907 \n",
      "COMID: 23153152\n",
      "Lat: 43.9363978979 \n",
      "Lon: -114.253001309 \n",
      "COMID: 23246636\n",
      "Lat: 43.2769175259 \n",
      "Lon: -118.370532097 \n",
      "COMID: 23422815\n",
      "Lat: 44.4521967947 \n",
      "Lon: -115.151039667 \n",
      "COMID: 23526935\n",
      "Lat: 45.9917004572 \n",
      "Lon: -114.497699981 \n",
      "COMID: 23577706\n",
      "Lat: 43.701061859 \n",
      "Lon: -122.848986372 \n",
      "COMID: 23761350\n",
      "Lat: 44.6546036418 \n",
      "Lon: -123.069539666 \n",
      "COMID: 23768905\n",
      "Lat: 45.1430904923 \n",
      "Lon: -123.971837788 \n",
      "COMID: 23878739\n",
      "Lat: 42.9265499172 \n",
      "Lon: -123.435909281 \n",
      "COMID: 23906245\n",
      "Lat: 48.6517605392 \n",
      "Lon: -122.85515606 \n",
      "COMID: 23955063\n",
      "Lat: 48.9294845022 \n",
      "Lon: -122.149572312 \n",
      "COMID: 23960352\n",
      "Lat: 47.5909209449 \n",
      "Lon: -121.868022983 \n",
      "COMID: 23974639\n",
      "Lat: 42.609458188 \n",
      "Lon: -119.752062868 \n",
      "COMID: 24051463\n",
      "Lat: 48.2567717755 \n",
      "Lon: -116.661476719 \n",
      "COMID: 24118145\n",
      "Lat: 44.8777731601 \n",
      "Lon: -118.204490654 \n",
      "COMID: 24215433\n",
      "Lat: 48.4849653549 \n",
      "Lon: -122.271132117 \n",
      "COMID: 24272870\n",
      "Lat: 47.5083222203 \n",
      "Lon: -122.919413696 \n",
      "COMID: 24289994\n",
      "Lat: 45.9864037038 \n",
      "Lon: -112.76238144 \n",
      "COMID: 24303956\n",
      "Lat: 48.5241342439 \n",
      "Lon: -114.563635577 \n",
      "COMID: 24347645\n",
      "Lat: 48.3971252516 \n",
      "Lon: -114.419090538 \n",
      "COMID: 24347753\n",
      "Lat: 47.4343116086 \n",
      "Lon: -113.714201289 \n",
      "COMID: 24353578\n",
      "Lat: 47.0677450109 \n",
      "Lon: -119.635974255 \n",
      "COMID: 24411297\n",
      "Lat: 47.0661806614 \n",
      "Lon: -119.628206935 \n",
      "COMID: 24411301\n",
      "Lat: 47.0158568916 \n",
      "Lon: -119.753283601 \n",
      "COMID: 24411513\n",
      "Lat: 46.9984282188 \n",
      "Lon: -119.430914585 \n",
      "COMID: 24411567\n",
      "Lat: 46.9708245524 \n",
      "Lon: -119.447198588 \n",
      "COMID: 24411747\n",
      "Lat: 44.3705629107 \n",
      "Lon: -111.390127653 \n",
      "COMID: 24465626\n",
      "Lat: 43.7703607588 \n",
      "Lon: -111.341414652 \n",
      "COMID: 24475596\n",
      "Lat: 42.5813822513 \n",
      "Lon: -114.340516766 \n",
      "COMID: 24500312\n",
      "Lat: 47.7129798254 \n",
      "Lon: -122.129566132 \n",
      "COMID: 24539606\n",
      "Lat: 43.0275968378 \n",
      "Lon: -112.778617816 \n",
      "COMID: 24566953\n",
      "Lat: 45.6886366463 \n",
      "Lon: -121.710419621 \n",
      "COMID: 150815744\n"
     ]
    }
   ],
   "source": [
    "for lat,lon,name in zip(lks['geometry'].centroid.map(lambda p: p.y),lks['geometry'].centroid.map(lambda p: p.x),lks['COMID']):\n",
    "    print \"Lat: {} \\nLon: {} \\nCOMID: {}\".format(lat,lon,name)"
   ]
  },
  {
   "cell_type": "code",
   "execution_count": null,
   "metadata": {
    "collapsed": false
   },
   "outputs": [
    {
     "name": "stderr",
     "output_type": "stream",
     "text": [
      "TopologyException: Input geom 0 is invalid: Ring Self-intersection at or near point -83.55969418159917 36.3934340772607 at -83.55969418159917 36.3934340772607\n"
     ]
    },
    {
     "name": "stdout",
     "output_type": "stream",
     "text": [
      "166997561.0\n"
     ]
    },
    {
     "name": "stderr",
     "output_type": "stream",
     "text": [
      "TopologyException: Input geom 1 is invalid: Ring Self-intersection at or near point -87.994943579174645 35.55474577981515 at -87.994943579174645 35.55474577981515\n"
     ]
    },
    {
     "name": "stdout",
     "output_type": "stream",
     "text": [
      "166997626.0\n"
     ]
    },
    {
     "name": "stderr",
     "output_type": "stream",
     "text": [
      "TopologyException: Input geom 0 is invalid: Ring Self-intersection at or near point -87.000008908731957 34.655031279541845 0 at -87.000008908731957 34.655031279541845 0\n",
      "Ring Self-intersection at or near point -87.000008908731957 34.655031279541845 0\n"
     ]
    },
    {
     "name": "stdout",
     "output_type": "stream",
     "text": [
      "167679168.0\n"
     ]
    },
    {
     "name": "stderr",
     "output_type": "stream",
     "text": [
      "TopologyException: Input geom 1 is invalid: Ring Self-intersection at or near point -78.901113106478107 42.044401875176824 at -78.901113106478107 42.044401875176824\n"
     ]
    },
    {
     "name": "stdout",
     "output_type": "stream",
     "text": [
      "166899002.0\n"
     ]
    },
    {
     "name": "stderr",
     "output_type": "stream",
     "text": [
      "TopologyException: Input geom 0 is invalid: Ring Self-intersection at or near point -87.801996707487049 36.500066276677906 0 at -87.801996707487049 36.500066276677906 0\n",
      "Ring Self-intersection at or near point -87.801996707487049 36.500066276677906 0\n"
     ]
    },
    {
     "name": "stdout",
     "output_type": "stream",
     "text": [
      "166899385.0\n"
     ]
    },
    {
     "name": "stderr",
     "output_type": "stream",
     "text": [
      "TopologyException: Input geom 1 is invalid: Ring Self-intersection at or near point -100.39077073406148 45.637766897131328 at -100.39077073406148 45.637766897131328\n"
     ]
    },
    {
     "name": "stdout",
     "output_type": "stream",
     "text": [
      "19251179.0\n"
     ]
    },
    {
     "name": "stderr",
     "output_type": "stream",
     "text": [
      "TopologyException: Input geom 1 is invalid: Ring Self-intersection at or near point -106.54486286717204 47.962023152628809 at -106.54486286717204 47.962023152628809\n"
     ]
    },
    {
     "name": "stdout",
     "output_type": "stream",
     "text": [
      "167204901.0\n"
     ]
    },
    {
     "name": "stderr",
     "output_type": "stream",
     "text": [
      "TopologyException: Input geom 0 is invalid: Ring Self-intersection at or near point -110.20390270079844 44.317719183373754 at -110.20390270079844 44.317719183373754\n"
     ]
    },
    {
     "name": "stdout",
     "output_type": "stream",
     "text": [
      "167204959.0\n"
     ]
    },
    {
     "name": "stderr",
     "output_type": "stream",
     "text": [
      "TopologyException: Input geom 1 is invalid: Ring Self-intersection at or near point -97.565794871213669 42.163466175979259 at -97.565794871213669 42.163466175979259\n"
     ]
    },
    {
     "name": "stdout",
     "output_type": "stream",
     "text": [
      "17272914.0\n"
     ]
    },
    {
     "name": "stderr",
     "output_type": "stream",
     "text": [
      "TopologyException: found non-noded intersection between LINESTRING (-92.7611 38.1681, -92.7611 38.168) and LINESTRING (-92.7611 38.1682, -92.7611 38.168) at -92.761129365213634 38.16801109237479 0\n"
     ]
    },
    {
     "name": "stdout",
     "output_type": "stream",
     "text": [
      "167267897.0\n"
     ]
    },
    {
     "name": "stderr",
     "output_type": "stream",
     "text": [
      "TopologyException: Input geom 0 is invalid: Ring Self-intersection at or near point -93.599349445549052 44.893190940458297 at -93.599349445549052 44.893190940458297\n"
     ]
    },
    {
     "name": "stdout",
     "output_type": "stream",
     "text": [
      "1101734.0\n"
     ]
    },
    {
     "name": "stderr",
     "output_type": "stream",
     "text": [
      "TopologyException: Input geom 0 is invalid: Ring Self-intersection at or near point -96.243419005938449 44.307855983194045 at -96.243419005938449 44.307855983194045\n"
     ]
    },
    {
     "name": "stdout",
     "output_type": "stream",
     "text": [
      "4136984.0\n"
     ]
    },
    {
     "name": "stderr",
     "output_type": "stream",
     "text": [
      "TopologyException: Input geom 1 is invalid: Ring Self-intersection at or near point -94.053411715512482 46.774396591400695 at -94.053411715512482 46.774396591400695\n"
     ]
    },
    {
     "name": "stdout",
     "output_type": "stream",
     "text": [
      "4619930.0\n"
     ]
    },
    {
     "name": "stderr",
     "output_type": "stream",
     "text": [
      "TopologyException: Input geom 0 is invalid: Ring Self-intersection at or near point -94.119706673658442 46.700544427372812 at -94.119706673658442 46.700544427372812\n"
     ]
    },
    {
     "name": "stdout",
     "output_type": "stream",
     "text": [
      "4620258.0\n"
     ]
    },
    {
     "name": "stderr",
     "output_type": "stream",
     "text": [
      "TopologyException: Input geom 0 is invalid: Ring Self-intersection at or near point -88.610291481318157 42.612015972435607 at -88.610291481318157 42.612015972435607\n"
     ]
    },
    {
     "name": "stdout",
     "output_type": "stream",
     "text": [
      "13294928.0\n"
     ]
    },
    {
     "name": "stderr",
     "output_type": "stream",
     "text": [
      "TopologyException: Input geom 1 is invalid: Ring Self-intersection at or near point -89.431868882959918 45.913080814707222 at -89.431868882959918 45.913080814707222\n"
     ]
    },
    {
     "name": "stdout",
     "output_type": "stream",
     "text": [
      "13393637.0\n"
     ]
    },
    {
     "name": "stderr",
     "output_type": "stream",
     "text": [
      "TopologyException: Input geom 1 is invalid: Ring Self-intersection at or near point -89.522981124537125 45.840277540727634 at -89.522981124537125 45.840277540727634\n"
     ]
    },
    {
     "name": "stdout",
     "output_type": "stream",
     "text": [
      "13393923.0\n"
     ]
    },
    {
     "name": "stderr",
     "output_type": "stream",
     "text": [
      "TopologyException: Input geom 1 is invalid: Ring Self-intersection at or near point -89.284068821062448 45.636671683391718 at -89.284068821062448 45.636671683391718\n"
     ]
    },
    {
     "name": "stdout",
     "output_type": "stream",
     "text": [
      "13395039.0\n"
     ]
    },
    {
     "name": "stderr",
     "output_type": "stream",
     "text": [
      "TopologyException: Input geom 0 is invalid: Ring Self-intersection at or near point -89.472735087071158 39.203630472813536 at -89.472735087071158 39.203630472813536\n"
     ]
    },
    {
     "name": "stdout",
     "output_type": "stream",
     "text": [
      "13880948.0\n"
     ]
    },
    {
     "name": "stderr",
     "output_type": "stream",
     "text": [
      "TopologyException: Input geom 0 is invalid: Ring Self-intersection at or near point -89.721947831187606 44.742692908642169 at -89.721947831187606 44.742692908642169\n"
     ]
    },
    {
     "name": "stdout",
     "output_type": "stream",
     "text": [
      "14731996.0\n"
     ]
    },
    {
     "name": "stderr",
     "output_type": "stream",
     "text": [
      "TopologyException: Input geom 1 is invalid: Ring Self-intersection at or near point -91.070592349322581 41.172235701778462 at -91.070592349322581 41.172235701778462\n"
     ]
    },
    {
     "name": "stdout",
     "output_type": "stream",
     "text": [
      "14806577.0\n"
     ]
    },
    {
     "name": "stderr",
     "output_type": "stream",
     "text": [
      "TopologyException: Input geom 0 is invalid: Ring Self-intersection at or near point -94.715594531744642 47.575712351720171 at -94.715594531744642 47.575712351720171\n"
     ]
    },
    {
     "name": "stdout",
     "output_type": "stream",
     "text": [
      "22322013.0\n"
     ]
    },
    {
     "name": "stderr",
     "output_type": "stream",
     "text": [
      "TopologyException: found non-noded intersection between LINESTRING (-91.6899 39.4545, -91.6897 39.4547) and LINESTRING (-91.6897 39.4545, -91.6897 39.4547) at -91.689693139948901 39.454705003754547 0\n"
     ]
    },
    {
     "name": "stdout",
     "output_type": "stream",
     "text": [
      "937110111.0\n"
     ]
    }
   ],
   "source": [
    "lks2 = gpd.GeoDataFrame()\n",
    "bsn2 = gpd.GeoDataFrame()\n",
    "miss2 = gpd.GeoDataFrame()\n",
    "for zone in inputs:\n",
    "    hr = inputs[zone]\n",
    "    lakes = lksnet.ix[lksnet.VPU == zone]  \n",
    "    cats = gpd.GeoDataFrame.from_file('%s/NHDPlus%s/NHDPlus%s/NHDPlusCatchment/Catchment.shp' % (NHD_dir,hr, zone))   \n",
    "    lookup = pd.read_csv('D:/Projects/lakesAnalysis/On_Network_LakeCOMs/LakeCOMs%s.csv' % zone)\n",
    "    for idx, row in lookup.iterrows():\n",
    "        lake = lakes.ix[lakes.COMID == row.wbCOMID]\n",
    "        catbas = findUpstreamNpy(zone, int(row.catCOMID), catnumps)\n",
    "        basin = cats.ix[cats.FEATUREID.isin(catbas)]\n",
    "        try: \n",
    "            diffgeom = lake['geometry'].difference(basin.unary_union.buffer(0))\n",
    "            pct = diffgeom.area / lake.area * 100\n",
    "            if pct.values[0] > 50:\n",
    "                lks2 = pd.concat([lks2, lake])\n",
    "                bsn2 = pd.concat([bsn2, basin])\n",
    "                miss2 = pd.concat([miss2, gpd.GeoDataFrame(geometry=diffgeom)])\n",
    "        except:\n",
    "            print row.wbCOMID\n",
    "            continue"
   ]
  },
  {
   "cell_type": "code",
   "execution_count": null,
   "metadata": {
    "collapsed": true
   },
   "outputs": [],
   "source": [
    "% timeit\n",
    "lks2.to_crs({'init' :'epsg:4326'}).to_file(r\"C:\\Users\\Rdebbout\\Plot2Shps\\lks3.json\",driver=\"GeoJSON\")\n",
    "bsn2.to_crs({'init' :'epsg:4326'}).to_file(r\"C:\\Users\\Rdebbout\\Plot2Shps\\bsn3.json\",driver=\"GeoJSON\")\n",
    "miss2.to_crs({'init' :'epsg:4326'}).to_file(r\"C:\\Users\\Rdebbout\\Plot2Shps\\miss3.json\",driver=\"GeoJSON\")"
   ]
  },
  {
   "cell_type": "code",
   "execution_count": null,
   "metadata": {
    "collapsed": false
   },
   "outputs": [],
   "source": [
    "map=folium.Map(location=[45.96040854768601, -117.47340297823],zoom_start=6,tiles=\"Stamen Terrain\")\n",
    "\n",
    "fg=folium.FeatureGroup(name=\"Lake Points\")\n",
    "for lat,lon,name in zip(lakes['geometry'].centroid.map(lambda p: p.y),lakes['geometry'].centroid.map(lambda p: p.x),lakes['COMID']):\n",
    "        fg.add_child(folium.Marker(location=[lat,lon],popup='NHD Waterbody COMID: %s' % name,\n",
    "                                   icon=folium.Icon(icon_color='white', prefix='fa',icon='warning')))\n",
    "map.add_child(fg)\n",
    "\n",
    "map.add_child(folium.GeoJson(data=open(r'C:\\Users\\Rdebbout\\Plot2Shps\\lks.json'),\n",
    "name='NHD Lake',\n",
    "style_function=lambda x: {'fillColor':'blue', 'fill_opacity': 0.4, 'color':'#5bc0de'}\n",
    "))\n",
    "map.add_child(folium.GeoJson(data=open(r'C:\\Users\\Rdebbout\\Plot2Shps\\bsn.json'),\n",
    "name='Catchment Basin',\n",
    "style_function=lambda x: {'fillColor':'grey', \n",
    "                          'fill_opacity': 0.3, \n",
    "                          'color':'white'}\n",
    "))\n",
    "map.add_child(folium.GeoJson(data=open(r'C:\\Users\\Rdebbout\\Plot2Shps\\miss.json'),\n",
    "name='Missed Area',\n",
    "style_function=lambda x: {'fillColor':'red', 'fill_opacity': 0.2, 'color':'none'}\n",
    "))\n",
    "map.add_child(folium.LayerControl())\n",
    "map.save(outfile=r'C:\\Users\\Rdebbout\\Plot2Shps\\lakesPoint.html')"
   ]
  },
  {
   "cell_type": "code",
   "execution_count": null,
   "metadata": {
    "collapsed": true
   },
   "outputs": [],
   "source": [
    "def color(vpu):\n",
    "    if vpu in ['09','16','08','03N']:\n",
    "        col='#d9534f'\n",
    "    elif vpu in ['10U','05','13','03S']:\n",
    "        col='#f9f9f9'\n",
    "    elif vpu in ['14','07','02','12']:\n",
    "        col='#5bc0de'\n",
    "    elif vpu in ['17','10L','04','06','15']:\n",
    "        col='#5cb85c'\n",
    "    elif vpu in ['18','11','01','03W']:\n",
    "        col='#428bca'\n",
    "    return col"
   ]
  },
  {
   "cell_type": "code",
   "execution_count": null,
   "metadata": {
    "collapsed": true
   },
   "outputs": [],
   "source": []
  },
  {
   "cell_type": "code",
   "execution_count": null,
   "metadata": {
    "collapsed": true
   },
   "outputs": [],
   "source": []
  },
  {
   "cell_type": "code",
   "execution_count": null,
   "metadata": {
    "collapsed": false
   },
   "outputs": [],
   "source": [
    "extent = lks2.unary_union.bounds\n",
    "lat_Center = (extent[1] + extent[3]) / 2\n",
    "lon_Center = (extent[0] + extent[2]) / 2"
   ]
  },
  {
   "cell_type": "code",
   "execution_count": null,
   "metadata": {
    "collapsed": false
   },
   "outputs": [],
   "source": [
    "http://fontawesome.io/icons/\n",
    "http://glyphicons.bootstrapcheatsheets.com/"
   ]
  },
  {
   "cell_type": "code",
   "execution_count": null,
   "metadata": {
    "collapsed": true
   },
   "outputs": [],
   "source": []
  }
 ],
 "metadata": {
  "anaconda-cloud": {},
  "kernelspec": {
   "display_name": "Python [default]",
   "language": "python",
   "name": "python2"
  },
  "language_info": {
   "codemirror_mode": {
    "name": "ipython",
    "version": 2
   },
   "file_extension": ".py",
   "mimetype": "text/x-python",
   "name": "python",
   "nbconvert_exporter": "python",
   "pygments_lexer": "ipython2",
   "version": "2.7.12"
  }
 },
 "nbformat": 4,
 "nbformat_minor": 0
}
